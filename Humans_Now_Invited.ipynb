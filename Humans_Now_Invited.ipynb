{
  "nbformat": 4,
  "nbformat_minor": 0,
  "metadata": {
    "colab": {
      "name": "Humans Now Invited",
      "provenance": [],
      "collapsed_sections": [
        "EYcWX8zPl2QJ"
      ],
      "authorship_tag": "ABX9TyOU60ZQiqgWAeRrr5p1TYoR",
      "include_colab_link": true
    },
    "kernelspec": {
      "name": "python3",
      "display_name": "Python 3"
    },
    "language_info": {
      "name": "python"
    }
  },
  "cells": [
    {
      "cell_type": "markdown",
      "metadata": {
        "id": "view-in-github",
        "colab_type": "text"
      },
      "source": [
        "<a href=\"https://colab.research.google.com/github/DenCoder618/Humans-Now-Invited/blob/main/Humans_Now_Invited.ipynb\" target=\"_parent\"><img src=\"https://colab.research.google.com/assets/colab-badge.svg\" alt=\"Open In Colab\"/></a>"
      ]
    },
    {
      "cell_type": "markdown",
      "metadata": {
        "id": "p6lomDQWkXB2"
      },
      "source": [
        "# Humans Not Invited (but Now invited!)\n",
        "\n",
        "Сайт: http://humansnotinvited.com"
      ]
    },
    {
      "cell_type": "code",
      "metadata": {
        "id": "Z2i27fZEKb-9",
        "cellView": "form"
      },
      "source": [
        "#@title Подготавливаем всё что надо\n",
        "import requests as r\n",
        "import json as j\n",
        "from bs4 import BeautifulSoup\n",
        "from hashlib import md5\n",
        "\n",
        "!git clone https://github.com/DenCoder618/Humans-Now-Invited -q\n",
        "with open(\"/content/Humans-Now-Invited/tags.json\") as f:\n",
        "  tags = j.loads(f.read())\n",
        "\n",
        "url = \"http://www.humansnotinvited.com/\"\n",
        "concat_list = lambda a: [j for i in a for j in i] # полезная функция, преобразует [[..], [.], [...]] в [......]\n",
        "\n",
        "arr = {k:sorted( # вот тут мы как раз получаем данные о статистическом распределении\n",
        "  [[i, concat_list(v).count(i)] for i in list(set(concat_list(v)))], key=lambda e: e[1]\n",
        ")[::-1][:9] for k, v in tags.items()}\n",
        "\n",
        "tictactoefy = lambda a: \" _______\\n| \" + \\\n",
        "  \"|\\n| \".join([\"\".join([\"x \" if i+1 in a else \"  \" for i in range(9)][i:i+3]) for i in (0,3,6)])+\"|\\n ‾‾‾‾‾‾‾\"\n",
        "\n",
        "# def tictactoefy(a):\n",
        "#   t = [\"x \" if i in a else \"  \" for i in range(1, 10)]\n",
        "#   return \" _______\\n| \" + \"\".join(t[:3]) + \"|\\n| \" + \"\".join(t[3:6]) + \"|\\n| \" + \"\".join(t[6:9]) + \"|\\n ‾‾‾‾‾‾‾\""
      ],
      "execution_count": null,
      "outputs": []
    },
    {
      "cell_type": "code",
      "metadata": {
        "id": "fPDVDlcGOz9r",
        "cellView": "form"
      },
      "source": [
        "#@title [ Успешно ] проходим капчу\n",
        "#@markdown Просто скопируйте исходный код страницы капчи (Ctrl + U; A; C) и вставьте в поле ниже\n",
        "html = \"\" #@param {type:\"string\"}\n",
        "bs = BeautifulSoup(html)\n",
        "tag = bs.find(\"strong\").text\n",
        "print(\"Tag:\", tag)\n",
        "bs = [md5(r.get(url + i[\"src\"]).content).hexdigest() for i in bs.find_all(\"img\")[1:-1]]\n",
        "\n",
        "a = set()\n",
        "for i in arr[tag]:\n",
        "  if i[0] in bs:\n",
        "    a.add(bs.index(i[0])+1)\n",
        "ans = sorted(list(a))\n",
        "print(\"Answer:\", \" \".join([str(i) for i in ans]))\n",
        "print(tictactoefy(ans))"
      ],
      "execution_count": null,
      "outputs": []
    },
    {
      "cell_type": "markdown",
      "metadata": {
        "id": "NPduz8wdRfNA"
      },
      "source": [
        "# Как это устроено"
      ]
    },
    {
      "cell_type": "markdown",
      "metadata": {
        "id": "5v3pKRZjETAI"
      },
      "source": [
        "Алгоритм работает на законах статистического распределения, то есть для обучения ему нужно много статистических данных о вариантах расположения картинок в капче (около 1000 примеров), после этого на основании данных о количестве появлений конкретной картинки с определенным тегом алгоритм делает вывод, к какому тегу эта картинка вероятно принадлежит ('точно' принадлежит, если нет пересечений, если же они есть, то есть одну картинку можно статистически отнести к двум разным тегам, выбирается тег с наибольшей вероятностью)\n",
        "\n",
        "Конечно же можно было сделать более совершенный алгоритм, основанный не на статистике, но как гласит первое правило программистов: \"Работает - не трогай!\", да и эту версию я написал на 30 минут, пока остывал мой чай\n",
        "\n",
        "Информация о капче: 24 темы, 216 картинок, 9 картинок на тему\n",
        "\n",
        "```\n",
        "Темы:\n",
        "man, women, modems, storefronts, flowers, spinners, memes, trafficlights,\n",
        "dogs, dicks (члены хаха), hotdogs, selfiesticks, kids, ewoks, cats, computers,\n",
        "cars, art, ants, star trek, spiders, speakers, servers, emojis\n",
        "```"
      ]
    },
    {
      "cell_type": "markdown",
      "metadata": {
        "id": "EYcWX8zPl2QJ"
      },
      "source": [
        "# Дополнительно - тренируем"
      ]
    },
    {
      "cell_type": "code",
      "metadata": {
        "id": "Aiugwe8-A-yT"
      },
      "source": [
        "cmax, c = 42, 0 # это не отсылка к Автостопу, точно-точно\n",
        "# 24 * 42 = 1008 > 1000 - достаточно\n",
        "while c < cmax:\n",
        "  data = BeautifulSoup(r.get(url).content)\n",
        "  # получить картинки\n",
        "  urls, hashes = [i[\"src\"] for i in data.find_all(\"img\")][1:-1], []\n",
        "  for u in urls:\n",
        "    hashes.append(md5(r.get(url + u).content).hexdigest()) # получаем хэши\n",
        "\n",
        "  tag = data.find(\"strong\").text\n",
        "  if tag not in tags.keys():\n",
        "    tags.update({tag: [hashes]})\n",
        "  else:\n",
        "    tags[tag].append(hashes)\n",
        "  \n",
        "  c = len(concat_list(tags.values())) / len(tags.keys())\n",
        "  print(len(concat_list(tags.values())), len(tags.keys()), round(c, 3), sep=\" - \")"
      ],
      "execution_count": null,
      "outputs": []
    },
    {
      "cell_type": "code",
      "metadata": {
        "id": "MijNYGTcNPmc"
      },
      "source": [
        "with open(\"tags.json\", \"w\") as f:\n",
        "  f.write(j.dumps(tags)) # сохранение"
      ],
      "execution_count": null,
      "outputs": []
    },
    {
      "cell_type": "code",
      "metadata": {
        "id": "QNJTjjwwH7oa"
      },
      "source": [
        "tags = {} # для очистки данных"
      ],
      "execution_count": null,
      "outputs": []
    }
  ]
}